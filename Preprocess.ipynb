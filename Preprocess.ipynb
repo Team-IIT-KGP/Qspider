{
 "cells": [
  {
   "cell_type": "code",
   "execution_count": 1,
   "metadata": {},
   "outputs": [],
   "source": [
    "'''\n",
    "Do preprocess only if you have GPU resources enough to train Qtype Classifier else use the train provided by us\n",
    "as changing the preprocessed tsv file will require question type predictions to generate again\n",
    "'''\n",
    "import xml.etree.ElementTree as ET\n",
    "tree = ET.parse('RQE_Train_8588_AMIA2016.xml')\n",
    "root = tree.getroot()\n",
    "lo=[]\n",
    "for elem in root.findall('pair'):\n",
    "    l=[]\n",
    "    l.append(elem.attrib['pid'])\n",
    "    l.append(elem.attrib['pid'])\n",
    "    l.append(elem.attrib['pid'])\n",
    "    for fileid in elem.findall('chq'):\n",
    "        l.append(fileid.text.split(\"\\n\")[1][3:])\n",
    "    for fileid in elem.findall('faq'):\n",
    "        l.append(fileid.text.split(\"\\n\")[1][3:])\n",
    "    if elem.attrib['value']=='true':\n",
    "        l.append(1)\n",
    "    else:\n",
    "        l.append(0)\n",
    "    lo.append(l)\n"
   ]
  },
  {
   "cell_type": "code",
   "execution_count": 2,
   "metadata": {},
   "outputs": [
    {
     "name": "stdout",
     "output_type": "stream",
     "text": [
      "(array([], dtype=int64), array([], dtype=int64))\n"
     ]
    }
   ],
   "source": [
    "from pandas import DataFrame\n",
    "import numpy as np\n",
    "import csv\n",
    "df=DataFrame.from_records(lo)\n",
    "df.iloc[5859,4]=df.iloc[5859,3]\n",
    "df.columns = ['id','qid1','qid2','question1', 'question2','is_duplicate']\n",
    "print(np.where(df.applymap(lambda x: x == '')))\n",
    "df1 = df.sample(frac=1).reset_index(drop=True)\n",
    "df1.to_csv(\"train.tsv\", sep=\"\\t\")"
   ]
  },
  {
   "cell_type": "code",
   "execution_count": 3,
   "metadata": {},
   "outputs": [],
   "source": [
    "import xml.etree.ElementTree as ET\n",
    "tree = ET.parse('3815612e-624e-4c11-84bd-0d61a5d9b35e_MEDIQA-2019-RQE-Val-Set-Final.xml')\n",
    "root = tree.getroot()\n",
    "lo=[]\n",
    "for elem in root.findall('pair'):\n",
    "    l=[]\n",
    "    l.append(elem.attrib['pid'])\n",
    "    l.append(elem.attrib['pid'])\n",
    "    l.append(elem.attrib['pid'])\n",
    "    for fileid in elem.findall('chq'):\n",
    "        l.append(' '.join(fileid.text.split('\\n')))\n",
    "    for fileid in elem.findall('faq'):\n",
    "        l.append(' '.join(fileid.text.split('\\n')))\n",
    "    if elem.attrib['value']=='false':\n",
    "        l.append('0')\n",
    "    else:\n",
    "        l.append('1')\n",
    "    lo.append(l)"
   ]
  },
  {
   "cell_type": "code",
   "execution_count": 4,
   "metadata": {},
   "outputs": [],
   "source": [
    "df=DataFrame.from_records(lo)\n",
    "df.columns = ['id','qid1','qid2','question1', 'question2','is_duplicate']\n",
    "# df1 = df.sample(frac=1).reset_index(drop=True)\n",
    "df.to_csv(\"valid.tsv\", sep=\"\\t\")"
   ]
  },
  {
   "cell_type": "code",
   "execution_count": 5,
   "metadata": {},
   "outputs": [],
   "source": [
    "import xml.etree.ElementTree as ET\n",
    "tree = ET.parse('MEDIQA2019-Task2-RQE-TestSet-wLabels.xml')\n",
    "root = tree.getroot()\n",
    "lo=[]\n",
    "for elem in root.findall('pair'):\n",
    "    l=[]\n",
    "    l.append(elem.attrib['pid'])\n",
    "    l.append(elem.attrib['pid'])\n",
    "    l.append(elem.attrib['pid'])\n",
    "    for fileid in elem.findall('chq'):\n",
    "        l.append(' '.join(fileid.text.split('\\n')))\n",
    "    for fileid in elem.findall('faq'):\n",
    "        l.append(' '.join(fileid.text.split('\\n')))\n",
    "    if elem.attrib['value']=='false':\n",
    "        l.append('0')\n",
    "    else:\n",
    "        l.append('1')\n",
    "    lo.append(l)"
   ]
  },
  {
   "cell_type": "code",
   "execution_count": 6,
   "metadata": {},
   "outputs": [],
   "source": [
    "df=DataFrame.from_records(lo)\n",
    "df.columns = ['id','qid1','qid2','question1', 'question2','is_duplicate']\n",
    "# df1 = df.sample(frac=1).reset_index(drop=True)\n",
    "df.to_csv(\"test.tsv\", sep=\"\\t\")"
   ]
  },
  {
   "cell_type": "code",
   "execution_count": 7,
   "metadata": {},
   "outputs": [],
   "source": [
    "import numpy as np\n",
    "def convert(a):\n",
    "    b=list(a)\n",
    "    a=np.zeros(13,dtype=int)\n",
    "    for elem in b:\n",
    "        if elem=='Anatomy':\n",
    "            a=a+np.array([1,0,0,0,0,0,0,0,0,0,0,0,0])\n",
    "        if elem=='Cause':\n",
    "            a=a+np.array([0,1,0,0,0,0,0,0,0,0,0,0,0])\n",
    "        if elem=='Complication':\n",
    "            a=a+np.array([0,0,1,0,0,0,0,0,0,0,0,0,0])\n",
    "        if elem=='Diagnosis':\n",
    "            a=a+np.array([0,0,0,1,0,0,0,0,0,0,0,0,0])\n",
    "        if elem=='Information':\n",
    "            a=a+np.array([0,0,0,0,1,0,0,0,0,0,0,0,0])\n",
    "        if elem=='Management':\n",
    "            a=a+np.array([0,0,0,0,0,1,0,0,0,0,0,0,0])\n",
    "        if elem=='Manifestation':\n",
    "            a=a+np.array([0,0,0,0,0,0,1,0,0,0,0,0,0])\n",
    "        if elem=='OtherEffect':\n",
    "            a=a+np.array([0,0,0,0,0,0,0,1,0,0,0,0,0])\n",
    "        if elem=='PersonOrg':\n",
    "            a=a+np.array([0,0,0,0,0,0,0,0,1,0,0,0,0])\n",
    "        if elem=='Prognosis':\n",
    "            a=a+np.array([0,0,0,0,0,0,0,0,0,1,0,0,0])\n",
    "        if elem=='Susceptibility':\n",
    "            a=a+np.array([0,0,0,0,0,0,0,0,0,0,1,0,0])\n",
    "        if elem=='Other':\n",
    "            a=a+np.array([0,0,0,0,0,0,0,0,0,0,0,1,0])\n",
    "        if elem=='NotDisease':\n",
    "            a=a+np.array([0,0,0,0,0,0,0,0,0,0,0,0,1])\n",
    "    return a\n",
    "    "
   ]
  },
  {
   "cell_type": "code",
   "execution_count": 8,
   "metadata": {},
   "outputs": [
    {
     "name": "stdout",
     "output_type": "stream",
     "text": [
      "{'PersonOrg', 'NotDisease', 'Cause', 'Information', 'Susceptibility', 'Manifestation', 'Anatomy', 'Management', 'Prognosis', 'Complication', 'OtherEffect', 'Other', 'Diagnosis'}\n"
     ]
    }
   ],
   "source": [
    "import xml.etree.ElementTree as ET\n",
    "tree = ET.parse('GARD_qdecomp.master.03.qtd.xml')\n",
    "root = tree.getroot()\n",
    "lo=[]\n",
    "l2=set()\n",
    "for elem in root.findall('Request'):\n",
    "    l=[]\n",
    "    l.append(elem.findall('Text')[0].text)\n",
    "    l1=set()\n",
    "    for elem1 in elem.findall('Question'):\n",
    "        for elem2 in elem1.findall('SubQuestion'):\n",
    "            l1.add(elem2.attrib['qt'])\n",
    "            l2.add(elem2.attrib['qt'])\n",
    "    lx=convert(l1)\n",
    "    for i in lx:\n",
    "        l.append(i)\n",
    "    lo.append(l)\n",
    "print(l2)"
   ]
  },
  {
   "cell_type": "code",
   "execution_count": 9,
   "metadata": {},
   "outputs": [],
   "source": [
    "df=DataFrame.from_records(lo)\n",
    "df.columns = ['Question','Anatomy','Cause', 'Complication','Diagnosis','Information','Management','Manifestation','OtherEffect','PersonOrg','Prognosis','Susceptibility','Other','NotDisease']\n",
    "df.to_csv(\"Qtype.tsv\", sep=\"\\t\", quoting=csv.QUOTE_NONE)"
   ]
  },
  {
   "cell_type": "code",
   "execution_count": 10,
   "metadata": {},
   "outputs": [],
   "source": [
    "import pandas as pd\n",
    "df1=pd.read_csv(\"train.tsv\", sep=\"\\t\")\n",
    "l=list(df1[\"question1\"])\n",
    "ler=[]\n",
    "for i in l:\n",
    "    lq=[]\n",
    "    lq.append(i)\n",
    "    lx=list(np.zeros(13,dtype=int))\n",
    "    for iq in lx:\n",
    "        lq.append(iq)\n",
    "    ler.append(lq)\n",
    "m=list(df1[\"question2\"])\n",
    "for i in m:\n",
    "    lq=[]\n",
    "    lq.append(i)\n",
    "    lx=list(np.zeros(13,dtype=int))\n",
    "    for iq in lx:\n",
    "        lq.append(iq)\n",
    "    ler.append(lq)\n",
    "df2=DataFrame.from_records(ler)\n",
    "df2.columns = ['Question','Anatomy','Cause', 'Complication','Diagnosis','Information','Management','Manifestation','OtherEffect','PersonOrg','Prognosis','Susceptibility','Other','NotDisease']\n",
    "df2.to_csv(\"Qtypetrain.tsv\", sep=\"\\t\")"
   ]
  },
  {
   "cell_type": "code",
   "execution_count": 11,
   "metadata": {},
   "outputs": [],
   "source": [
    "df1=pd.read_csv(\"valid.tsv\", sep=\"\\t\")\n",
    "l=list(df1[\"question1\"])\n",
    "ler=[]\n",
    "for i in l:\n",
    "    lq=[]\n",
    "    lq.append(i)\n",
    "    lx=list(np.zeros(13,dtype=int))\n",
    "    for iq in lx:\n",
    "        lq.append(iq)\n",
    "    ler.append(lq)\n",
    "m=list(df1[\"question2\"])\n",
    "for i in m:\n",
    "    lq=[]\n",
    "    lq.append(i)\n",
    "    lx=list(np.zeros(13,dtype=int))\n",
    "    for iq in lx:\n",
    "        lq.append(iq)\n",
    "    ler.append(lq)\n",
    "df2=DataFrame.from_records(ler)\n",
    "df2.columns = ['Question','Anatomy','Cause', 'Complication','Diagnosis','Information','Management','Manifestation','OtherEffect','PersonOrg','Prognosis','Susceptibility','Other','NotDisease']\n",
    "df2.to_csv(\"Qtypevalid.tsv\", sep=\"\\t\")"
   ]
  },
  {
   "cell_type": "code",
   "execution_count": 12,
   "metadata": {},
   "outputs": [],
   "source": [
    "df1=pd.read_csv(\"test.tsv\", sep=\"\\t\")\n",
    "l=list(df1[\"question1\"])\n",
    "ler=[]\n",
    "for i in l:\n",
    "    lq=[]\n",
    "    lq.append(i)\n",
    "    lx=list(np.zeros(13,dtype=int))\n",
    "    for iq in lx:\n",
    "        lq.append(iq)\n",
    "    ler.append(lq)\n",
    "m=list(df1[\"question2\"])\n",
    "for i in m:\n",
    "    lq=[]\n",
    "    lq.append(i)\n",
    "    lx=list(np.zeros(13,dtype=int))\n",
    "    for iq in lx:\n",
    "        lq.append(iq)\n",
    "    ler.append(lq)\n",
    "df2=DataFrame.from_records(ler)\n",
    "df2.columns = ['Question','Anatomy','Cause', 'Complication','Diagnosis','Information','Management','Manifestation','OtherEffect','PersonOrg','Prognosis','Susceptibility','Other','NotDisease']\n",
    "df2.to_csv(\"Qtypetest.tsv\", sep=\"\\t\")"
   ]
  },
  {
   "cell_type": "code",
   "execution_count": 13,
   "metadata": {},
   "outputs": [
    {
     "data": {
      "text/plain": [
       "'\\n\\n\\n\\n'"
      ]
     },
     "execution_count": 13,
     "metadata": {},
     "output_type": "execute_result"
    }
   ],
   "source": [
    "\"\"\"\n",
    "\n",
    "\n",
    "\n",
    "\"\"\""
   ]
  },
  {
   "cell_type": "code",
   "execution_count": null,
   "metadata": {},
   "outputs": [],
   "source": []
  },
  {
   "cell_type": "code",
   "execution_count": null,
   "metadata": {},
   "outputs": [],
   "source": []
  },
  {
   "cell_type": "code",
   "execution_count": null,
   "metadata": {},
   "outputs": [],
   "source": []
  },
  {
   "cell_type": "code",
   "execution_count": null,
   "metadata": {},
   "outputs": [],
   "source": []
  }
 ],
 "metadata": {
  "kernelspec": {
   "display_name": "Python 3",
   "language": "python",
   "name": "python3"
  },
  "language_info": {
   "codemirror_mode": {
    "name": "ipython",
    "version": 3
   },
   "file_extension": ".py",
   "mimetype": "text/x-python",
   "name": "python",
   "nbconvert_exporter": "python",
   "pygments_lexer": "ipython3",
   "version": "3.6.8"
  }
 },
 "nbformat": 4,
 "nbformat_minor": 2
}
